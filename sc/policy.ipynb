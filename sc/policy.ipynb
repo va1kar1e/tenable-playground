{
 "cells": [
  {
   "cell_type": "markdown",
   "metadata": {},
   "source": [
    "# Policy"
   ]
  },
  {
   "cell_type": "code",
   "execution_count": null,
   "metadata": {},
   "outputs": [],
   "source": [
    "import pandas as pd\n",
    "import requests, urllib3\n",
    "urllib3.disable_warnings(urllib3.exceptions.InsecureRequestWarning)\n",
    "\n",
    "from tenable_authen import TenableAuthentication"
   ]
  },
  {
   "cell_type": "code",
   "execution_count": null,
   "metadata": {},
   "outputs": [],
   "source": [
    "tenableAuthentication = TenableAuthentication()\n",
    "HOSTNAME = tenableAuthentication.getHostname()\n",
    "HEADER = tenableAuthentication.getRequestHeader()"
   ]
  },
  {
   "cell_type": "markdown",
   "metadata": {},
   "source": [
    "## 1. Get All Policies"
   ]
  },
  {
   "cell_type": "code",
   "execution_count": null,
   "metadata": {},
   "outputs": [],
   "source": [
    "def getAllPolicies(params={}):\n",
    "    getAllPoliciesURL = HOSTNAME + \"/rest/policy\"\n",
    "    allPolicies = requests.get(getAllPoliciesURL, params=params, headers=HEADER, verify=False)\n",
    "    allPolicies = allPolicies.json()[\"response\"]\n",
    "    print(len(allPolicies[\"usable\"]), len(allPolicies[\"manageable\"]))\n",
    "    return allPolicies"
   ]
  },
  {
   "cell_type": "code",
   "execution_count": null,
   "metadata": {},
   "outputs": [],
   "source": [
    "allPolicies = getAllPolicies()"
   ]
  },
  {
   "cell_type": "code",
   "execution_count": null,
   "metadata": {},
   "outputs": [],
   "source": [
    "pd.DataFrame(allPolicies[\"usable\"])"
   ]
  },
  {
   "cell_type": "markdown",
   "metadata": {},
   "source": [
    "## 2. Get Specific Policy by PolicyID "
   ]
  },
  {
   "cell_type": "code",
   "execution_count": null,
   "metadata": {},
   "outputs": [],
   "source": [
    "def getPolicyByPolicyID(policyID=\"\"):\n",
    "    getPolicyByPolicyIDURL = HOSTNAME + \"/rest/policy/\" + str(policyID)\n",
    "    policy = requests.get(getPolicyByPolicyIDURL, headers=HEADER, verify=False)\n",
    "    return policy.json()[\"response\"]"
   ]
  },
  {
   "cell_type": "code",
   "execution_count": null,
   "metadata": {},
   "outputs": [],
   "source": [
    "policyID = \"1000000\""
   ]
  },
  {
   "cell_type": "code",
   "execution_count": null,
   "metadata": {},
   "outputs": [],
   "source": [
    "policy = getPolicyByPolicyID(policyID=policyID)"
   ]
  },
  {
   "cell_type": "code",
   "execution_count": null,
   "metadata": {},
   "outputs": [],
   "source": [
    "policy"
   ]
  },
  {
   "cell_type": "markdown",
   "metadata": {},
   "source": [
    "## 3. Add Policy or AppPolicy"
   ]
  },
  {
   "cell_type": "code",
   "execution_count": null,
   "metadata": {},
   "outputs": [],
   "source": [
    "# {\n",
    "#     \"context\" : <string> \"\" | \"scan\" DEFAULT \"\"\n",
    "#     \"description\" : <string> DEFAULT \"\",\n",
    "#     \"tags\" : <string> DEFAULT \"\",\n",
    "#     \"preferences\" : [\n",
    "#         <string:name> : <string:value>...\n",
    "#     ] DEFAULT [],\n",
    "#     \"auditFiles\" : [\n",
    "#         {\n",
    "#             \"id\" : <number>\n",
    "#         }...\n",
    "#     ] DEFAULT [],\n",
    "#     \"policyTemplate\" : {\n",
    "#         \"id\" : <number>\n",
    "#     },\n",
    "#     \"policyProfileName\" : <string> OPTIONAL,\n",
    "#     \"generateXCCDFResults\" : <string> \"false\" | \"true\" DEFAULT \"false\"\n",
    "\n",
    "#     context \"\" (empty)\n",
    "#     ------------------\n",
    "#     \"name\" : <string>\n",
    "# }"
   ]
  },
  {
   "cell_type": "code",
   "execution_count": null,
   "metadata": {},
   "outputs": [],
   "source": [
    "def addPolicy(payload={}):\n",
    "    addPolicyURL = HOSTNAME + \"/rest/policy\"\n",
    "    newPolicy = requests.get(addPolicyURL, params=payload, headers=HEADER, verify=False)\n",
    "    newPolicy = newPolicy.json()[\"response\"]\n",
    "    return newPolicy"
   ]
  },
  {
   "cell_type": "code",
   "execution_count": null,
   "metadata": {},
   "outputs": [],
   "source": [
    "payload = {\n",
    "    \"context\": \"\",\n",
    "    \"name\": \"\",\n",
    "    \"description\": \"\",\n",
    "    \"tags\": \"\",\n",
    "    \"preferences\": [...],\n",
    "    \"auditFiles\": [],\n",
    "    \"policyTemplate\": {\n",
    "        \"id\": \"1\",\n",
    "    },\n",
    "    \"generateXCCDFResults\": \"false\",\n",
    "}"
   ]
  },
  {
   "cell_type": "code",
   "execution_count": null,
   "metadata": {},
   "outputs": [],
   "source": [
    "newPolicy = addPolicy(payload=payload)"
   ]
  },
  {
   "cell_type": "code",
   "execution_count": null,
   "metadata": {},
   "outputs": [],
   "source": [
    "newPolicy"
   ]
  },
  {
   "cell_type": "code",
   "execution_count": null,
   "metadata": {},
   "outputs": [],
   "source": []
  }
 ],
 "metadata": {
  "kernelspec": {
   "display_name": "Python 3",
   "language": "python",
   "name": "python3"
  },
  "language_info": {
   "codemirror_mode": {
    "name": "ipython",
    "version": 3
   },
   "file_extension": ".py",
   "mimetype": "text/x-python",
   "name": "python",
   "nbconvert_exporter": "python",
   "pygments_lexer": "ipython3",
   "version": "3.8.3"
  }
 },
 "nbformat": 4,
 "nbformat_minor": 4
}
