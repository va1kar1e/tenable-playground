{
 "cells": [
  {
   "cell_type": "code",
   "execution_count": null,
   "metadata": {},
   "outputs": [],
   "source": [
    "import pandas as pd\n",
    "from pprint import pprint\n",
    "import pandas as pd\n",
    "\n",
    "from requests import Session\n",
    "session = Session()\n",
    "session.verify = False"
   ]
  },
  {
   "cell_type": "code",
   "execution_count": null,
   "metadata": {},
   "outputs": [],
   "source": [
    "# Enable Tenable Log\n",
    "import logging\n",
    "logging.basicConfig(level=logging.DEBUG)"
   ]
  },
  {
   "cell_type": "code",
   "execution_count": null,
   "metadata": {},
   "outputs": [],
   "source": [
    "from tenable.io import TenableIO\n",
    "\n",
    "from tenable_authen import TenableAuthentication\n",
    "credential = TenableAuthentication().getCredential()\n",
    "\n",
    "TIO_ACCESS_KEY = credential[\"TENABLE_ACCESSKEY\"]\n",
    "TIO_SECRET_KEY = credential[\"TENABLE_SECRETKEY\"]\n",
    "\n",
    "PROXIES_HTTPS =  TenableAuthentication().getProxies()\n",
    "\n",
    "PROXIES = {\n",
    "    \"https\": PROXIES_HTTPS\n",
    "}\n",
    "\n",
    "tenableIO = TenableIO(TIO_ACCESS_KEY, TIO_SECRET_KEY, session=session, proxies=PROXIES)\n",
    "\n",
    "# del credential, TIO_ACCESS_KEY, TIO_SECRET_KEY"
   ]
  },
  {
   "cell_type": "markdown",
   "metadata": {},
   "source": [
    "## Retrieve the list of credential types"
   ]
  },
  {
   "cell_type": "code",
   "execution_count": null,
   "metadata": {},
   "outputs": [],
   "source": [
    "def getlistOfCredentialsTypes():\n",
    "    return tenableIO.credentials.types()"
   ]
  },
  {
   "cell_type": "code",
   "execution_count": null,
   "metadata": {
    "scrolled": true
   },
   "outputs": [],
   "source": [
    "credentialsTypes = pd.DataFrame(getlistOfCredentialsTypes())\n",
    "credentialsTypes"
   ]
  },
  {
   "cell_type": "code",
   "execution_count": null,
   "metadata": {},
   "outputs": [],
   "source": [
    "credentialsTypes_Host = pd.DataFrame(credentialsTypes[credentialsTypes[\"id\"]==\"Host\"][\"types\"].values[0])\n",
    "credentialsTypes_Host"
   ]
  },
  {
   "cell_type": "markdown",
   "metadata": {},
   "source": [
    "SSH | Password Type"
   ]
  },
  {
   "cell_type": "code",
   "execution_count": null,
   "metadata": {},
   "outputs": [],
   "source": [
    "credentialsTypes_Host_ssh = (credentialsTypes_Host[credentialsTypes_Host[\"id\"]==\"SSH\"][\"configuration\"].values[0])[0][\"options\"]\n",
    "credentialsTypes_Host_ssh = pd.DataFrame(credentialsTypes_Host_ssh)\n",
    "credentialsTypes_Host_ssh"
   ]
  },
  {
   "cell_type": "code",
   "execution_count": null,
   "metadata": {},
   "outputs": [],
   "source": [
    "pd.DataFrame(credentialsTypes_Host_ssh[credentialsTypes_Host_ssh[\"name\"]==\"password\"][\"inputs\"].values[0])"
   ]
  },
  {
   "cell_type": "markdown",
   "metadata": {},
   "source": [
    "Windows | Password Type"
   ]
  },
  {
   "cell_type": "code",
   "execution_count": null,
   "metadata": {},
   "outputs": [],
   "source": [
    "credentialsTypes_Host_windows = (credentialsTypes_Host[credentialsTypes_Host[\"id\"]==\"Windows\"][\"configuration\"].values[0])[0][\"options\"]\n",
    "credentialsTypes_Host_windows = pd.DataFrame(credentialsTypes_Host_windows)\n",
    "credentialsTypes_Host_windows"
   ]
  },
  {
   "cell_type": "code",
   "execution_count": null,
   "metadata": {},
   "outputs": [],
   "source": [
    "pd.DataFrame(credentialsTypes_Host_windows[credentialsTypes_Host_windows[\"name\"]==\"Password\"][\"inputs\"].values[0])"
   ]
  },
  {
   "cell_type": "markdown",
   "metadata": {},
   "source": [
    "## Retrieve the list of credentials"
   ]
  },
  {
   "cell_type": "code",
   "execution_count": null,
   "metadata": {},
   "outputs": [],
   "source": [
    "def getlistOfCredentials():\n",
    "    return tenableIO.credentials.list()"
   ]
  },
  {
   "cell_type": "code",
   "execution_count": null,
   "metadata": {
    "scrolled": true
   },
   "outputs": [],
   "source": [
    "pd.DataFrame(list(getlistOfCredentials()))"
   ]
  },
  {
   "cell_type": "code",
   "execution_count": null,
   "metadata": {},
   "outputs": [],
   "source": []
  },
  {
   "cell_type": "markdown",
   "metadata": {},
   "source": [
    "## Retrieves the details of the specified credential"
   ]
  },
  {
   "cell_type": "code",
   "execution_count": null,
   "metadata": {},
   "outputs": [],
   "source": [
    "def getCredentialDetail(cred_uuid=None):\n",
    "    return tenableIO.credentials.details(id=cred_uuid)"
   ]
  },
  {
   "cell_type": "code",
   "execution_count": null,
   "metadata": {},
   "outputs": [],
   "source": [
    "cred_uuid=\"\""
   ]
  },
  {
   "cell_type": "code",
   "execution_count": null,
   "metadata": {},
   "outputs": [],
   "source": [
    "pd.DataFrame(list(getCredentialDetail(cred_uuid=cred_uuid)))"
   ]
  },
  {
   "cell_type": "code",
   "execution_count": null,
   "metadata": {},
   "outputs": [],
   "source": []
  },
  {
   "cell_type": "markdown",
   "metadata": {},
   "source": [
    "## Creates a new managed credential."
   ]
  },
  {
   "cell_type": "markdown",
   "metadata": {},
   "source": [
    "Example \n",
    "```\n",
    " tio.credentials.create('SSH Account', 'SSH',\n",
    "                         permissions=[('group', 'use', group_id)],\n",
    "                         username='user1',\n",
    "                         password='sekretsquirrel',\n",
    "                         escalation_account='root',\n",
    "                         escalation_password='sudopassword',\n",
    "                         elevate_privileges_with='sudo',\n",
    "                         bin_directory='/usr/bin',\n",
    "                         custom_password_prompt=''\n",
    "                       )\n",
    "```               "
   ]
  },
  {
   "cell_type": "code",
   "execution_count": null,
   "metadata": {},
   "outputs": [],
   "source": [
    "# def createNewCredentialSSH(cred_name, cred_type, description=None, permissions=None):\n",
    "#     return tenableIO.credentials.create(cred_name=cred_name)"
   ]
  },
  {
   "cell_type": "code",
   "execution_count": null,
   "metadata": {},
   "outputs": [],
   "source": []
  },
  {
   "cell_type": "code",
   "execution_count": null,
   "metadata": {},
   "outputs": [],
   "source": []
  },
  {
   "cell_type": "markdown",
   "metadata": {},
   "source": [
    "## Delete the details of the specified credential"
   ]
  },
  {
   "cell_type": "code",
   "execution_count": null,
   "metadata": {},
   "outputs": [],
   "source": [
    "def getCredentialDelete(cred_uuid=None):\n",
    "    return tenableIO.credentials.delete(id=cred_uuid)"
   ]
  },
  {
   "cell_type": "code",
   "execution_count": null,
   "metadata": {},
   "outputs": [],
   "source": [
    "cred_uuid=\"\""
   ]
  },
  {
   "cell_type": "code",
   "execution_count": null,
   "metadata": {},
   "outputs": [],
   "source": [
    "pd.DataFrame(list(getCredentialDelete(cred_uuid=cred_uuid)))"
   ]
  },
  {
   "cell_type": "code",
   "execution_count": null,
   "metadata": {},
   "outputs": [],
   "source": []
  },
  {
   "cell_type": "markdown",
   "metadata": {},
   "source": []
  },
  {
   "cell_type": "code",
   "execution_count": null,
   "metadata": {},
   "outputs": [],
   "source": []
  },
  {
   "cell_type": "code",
   "execution_count": null,
   "metadata": {},
   "outputs": [],
   "source": []
  },
  {
   "cell_type": "code",
   "execution_count": null,
   "metadata": {},
   "outputs": [],
   "source": []
  }
 ],
 "metadata": {
  "kernelspec": {
   "display_name": "Python 3",
   "language": "python",
   "name": "python3"
  },
  "language_info": {
   "codemirror_mode": {
    "name": "ipython",
    "version": 3
   },
   "file_extension": ".py",
   "mimetype": "text/x-python",
   "name": "python",
   "nbconvert_exporter": "python",
   "pygments_lexer": "ipython3",
   "version": "3.8.8"
  }
 },
 "nbformat": 4,
 "nbformat_minor": 4
}
