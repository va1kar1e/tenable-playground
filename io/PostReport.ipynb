{
 "cells": [
  {
   "cell_type": "markdown",
   "metadata": {},
   "source": [
    "# Post Process Report"
   ]
  },
  {
   "cell_type": "code",
   "execution_count": null,
   "metadata": {},
   "outputs": [],
   "source": [
    "import re\n",
    "import csv\n",
    "import pandas as pd"
   ]
  },
  {
   "cell_type": "code",
   "execution_count": null,
   "metadata": {},
   "outputs": [],
   "source": [
    "read_filepath = \"outputs/ScansReport.csv\""
   ]
  },
  {
   "cell_type": "code",
   "execution_count": null,
   "metadata": {},
   "outputs": [],
   "source": [
    "data = []"
   ]
  },
  {
   "cell_type": "code",
   "execution_count": null,
   "metadata": {},
   "outputs": [],
   "source": [
    "with open(read_filepath, 'r', encoding=\"UTF-8\") as f:\n",
    "    reader = csv.reader(f, delimiter=',')\n",
    "    data = list(reader)"
   ]
  },
  {
   "cell_type": "markdown",
   "metadata": {},
   "source": [
    "Exclude Column\n",
    "\n",
    "VA\n",
    "\n",
    "```\n",
    "See Also\n",
    "Plugin Output\n",
    "Asset UUID\n",
    "NetBios\n",
    "MAC Address\n",
    "CVSS Temporal Score\n",
    "CVSS3 Temporal Score\n",
    "CVSS3 Temporal Vector\n",
    "\n",
    "```\n",
    "\n",
    "CIS\n",
    "```\n",
    "See Also\n",
    "Plugin Output\n",
    "Asset UUID\n",
    "NetBios\n",
    "MAC Address\n",
    "Plugin Family\n",
    "```"
   ]
  },
  {
   "cell_type": "code",
   "execution_count": null,
   "metadata": {},
   "outputs": [],
   "source": [
    "hardening = [obj for obj in data if re.findall(r\"(windows|unix)\\scompliance\\schecks\", obj[7].lower())]"
   ]
  },
  {
   "cell_type": "code",
   "execution_count": null,
   "metadata": {},
   "outputs": [],
   "source": [
    "def extractText(data):\n",
    "    extracted_data = {}\n",
    "    locate_index = []\n",
    "\n",
    "    for i in range(0, len(data)):\n",
    "        text = data[i]\n",
    "\n",
    "        ifFindStatus = re.search(r'\\[(passed|failed|warning|error)\\]', text.lower())\n",
    "        ifFindColumns = re.search(r'(rationale|solution|see also|reference|policy value|actual value)\\:', text.lower())\n",
    "\n",
    "        if ifFindStatus:\n",
    "            locate_index.append(i)\n",
    "        elif ifFindColumns:\n",
    "            locate_index.append(i)\n",
    "\n",
    "\n",
    "    title = data[:locate_index[1]]\n",
    "\n",
    "    for text in title:\n",
    "        text = text.strip('\"')\n",
    "        ifFindStatus = re.search(r'\\[(passed|failed|warning|error)\\]', text.lower())\n",
    "        if ifFindStatus:\n",
    "            title_name = text[0:ifFindStatus.start()-1]\n",
    "            title_status = text[ifFindStatus.start()+1: ifFindStatus.end()-1]\n",
    "\n",
    "            title_name = title_name.strip(\":\").strip(\" \").split(' - ')\n",
    "            extracted_data[\"Template\"] = title_name[0]\n",
    "            extracted_data[\"Rule Name\"] = title_name[1] if len(title_name)>=2 else \"\"\n",
    "            extracted_data[\"Module\"] = title_name[2] if len(title_name)==3 else \"\"\n",
    "            \n",
    "#             extracted_data[\"title\"] = title_name.strip(\":\").strip(\" \").split(' - ')\n",
    "            extracted_data[\"Status\"] = title_status\n",
    "        else:\n",
    "            extracted_data[\"Description\"] = text\n",
    "\n",
    "    for i in range(1, len(locate_index)-1):\n",
    "        extracted_data[data[locate_index[i]].strip(\":\")] = \"\\n\".join(data[locate_index[i]+1:locate_index[i+1]])\n",
    "    extracted_data[data[locate_index[-1]].strip(\":\")] = \"\\n\".join(data[locate_index[-1]+1:])\n",
    "\n",
    "    return extracted_data"
   ]
  },
  {
   "cell_type": "code",
   "execution_count": null,
   "metadata": {},
   "outputs": [],
   "source": [
    "hardening_data = [h[9] for h in hardening]\n",
    "\n",
    "results = []\n",
    "for hardening_d in hardening_data:\n",
    "    data = hardening_d\n",
    "    data = [re.sub(r\"^\\s+\", \"\", line) for line in data.split(\"\\n\") if line != \"\"]\n",
    "    results.append(extractText(data))"
   ]
  },
  {
   "cell_type": "code",
   "execution_count": null,
   "metadata": {},
   "outputs": [],
   "source": [
    "columns = ['Template', 'Rule Name', 'Module', 'Status', 'Description', 'Rationale', 'Solution', 'Reference', 'Policy Value', 'Actual Value']\n",
    "results_df = pd.DataFrame(results, columns=columns)\n",
    "results_df = results_df.fillna('N/A')\n",
    "results_df"
   ]
  },
  {
   "cell_type": "code",
   "execution_count": null,
   "metadata": {},
   "outputs": [],
   "source": [
    "filepath = \"outputs/postReport.csv\"\n",
    "results_df.to_csv(filepath, index=False, encoding='utf-8')"
   ]
  },
  {
   "cell_type": "code",
   "execution_count": null,
   "metadata": {},
   "outputs": [],
   "source": []
  },
  {
   "cell_type": "code",
   "execution_count": null,
   "metadata": {},
   "outputs": [],
   "source": []
  },
  {
   "cell_type": "code",
   "execution_count": null,
   "metadata": {},
   "outputs": [],
   "source": []
  },
  {
   "cell_type": "code",
   "execution_count": null,
   "metadata": {},
   "outputs": [],
   "source": []
  },
  {
   "cell_type": "code",
   "execution_count": null,
   "metadata": {},
   "outputs": [],
   "source": []
  }
 ],
 "metadata": {
  "kernelspec": {
   "display_name": "Python 3",
   "language": "python",
   "name": "python3"
  },
  "language_info": {
   "codemirror_mode": {
    "name": "ipython",
    "version": 3
   },
   "file_extension": ".py",
   "mimetype": "text/x-python",
   "name": "python",
   "nbconvert_exporter": "python",
   "pygments_lexer": "ipython3",
   "version": "3.8.3"
  }
 },
 "nbformat": 4,
 "nbformat_minor": 4
}
