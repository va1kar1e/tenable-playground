{
 "cells": [
  {
   "cell_type": "markdown",
   "metadata": {},
   "source": [
    "# Scan"
   ]
  },
  {
   "cell_type": "code",
   "execution_count": null,
   "metadata": {},
   "outputs": [],
   "source": [
    "import json\n",
    "from datetime import datetime\n",
    "import pandas as pd\n",
    "import pprint as pp\n",
    "import requests, urllib3\n",
    "urllib3.disable_warnings(urllib3.exceptions.InsecureRequestWarning)\n",
    "\n",
    "from tenable_authen import TenableAuthentication"
   ]
  },
  {
   "cell_type": "code",
   "execution_count": null,
   "metadata": {},
   "outputs": [],
   "source": [
    "tenableAuthentication = TenableAuthentication()\n",
    "HOSTNAME = tenableAuthentication.getHostname()\n",
    "HEADER = tenableAuthentication.getRequestHeader()"
   ]
  },
  {
   "cell_type": "markdown",
   "metadata": {},
   "source": [
    "## 1. Get All of Scans"
   ]
  },
  {
   "cell_type": "code",
   "execution_count": null,
   "metadata": {},
   "outputs": [],
   "source": [
    "def getAllScan():\n",
    "    getAllScan = HOSTNAME + \"/rest/scan\"\n",
    "    allScans = requests.get(getAllScan, headers=HEADER, verify=False)\n",
    "    allScans = allScans.json()[\"response\"]\n",
    "    print(len(allScans[\"usable\"]), len(allScans[\"manageable\"]))\n",
    "    return allScans"
   ]
  },
  {
   "cell_type": "code",
   "execution_count": null,
   "metadata": {},
   "outputs": [],
   "source": [
    "allScans = getAllScan()"
   ]
  },
  {
   "cell_type": "code",
   "execution_count": null,
   "metadata": {
    "scrolled": false
   },
   "outputs": [],
   "source": [
    "pd.DataFrame(allScans[\"usable\"])"
   ]
  },
  {
   "cell_type": "code",
   "execution_count": null,
   "metadata": {},
   "outputs": [],
   "source": []
  },
  {
   "cell_type": "markdown",
   "metadata": {},
   "source": [
    "## 2. Search Scan"
   ]
  },
  {
   "cell_type": "markdown",
   "metadata": {},
   "source": [
    "- *id\n",
    "- **name\n",
    "- **description\n",
    "- **status\n",
    "- ipList\n",
    "- type\n",
    "- plugin\n",
    "- repository\n",
    "- owner1\n",
    "- reports\n",
    "- assets\n",
    "- credentials\n",
    "- schedule\n",
    "- policy\n",
    "- createdTime\n",
    "- modifiedTime"
   ]
  },
  {
   "cell_type": "code",
   "execution_count": null,
   "metadata": {},
   "outputs": [],
   "source": [
    "def searchScan(query={}):\n",
    "    searchScanURL = HOSTNAME + \"/rest/scan\"\n",
    "    searchScan = requests.get(searchScanURL, params=query, headers=HEADER, verify=False)\n",
    "    return searchScan.json()[\"response\"]"
   ]
  },
  {
   "cell_type": "code",
   "execution_count": null,
   "metadata": {},
   "outputs": [],
   "source": [
    "query = {\n",
    "    \"id\" : \"111\"\n",
    "}"
   ]
  },
  {
   "cell_type": "code",
   "execution_count": null,
   "metadata": {},
   "outputs": [],
   "source": [
    "searchScan = searchScan(query=query)"
   ]
  },
  {
   "cell_type": "code",
   "execution_count": null,
   "metadata": {},
   "outputs": [],
   "source": [
    "searchScan"
   ]
  },
  {
   "cell_type": "markdown",
   "metadata": {},
   "source": [
    "## 3. Get Specific Scan by ScanID"
   ]
  },
  {
   "cell_type": "code",
   "execution_count": null,
   "metadata": {},
   "outputs": [],
   "source": [
    "def getScanByScanID(scanID=\"\"):\n",
    "    getScanByScanIDURL = HOSTNAME + \"/rest/scan/\" + str(scanID)\n",
    "    scan = requests.get(getScanByScanIDURL, headers=HEADER, verify=False)\n",
    "    return scan.json()[\"response\"]"
   ]
  },
  {
   "cell_type": "code",
   "execution_count": null,
   "metadata": {},
   "outputs": [],
   "source": [
    "scanID = 111"
   ]
  },
  {
   "cell_type": "code",
   "execution_count": null,
   "metadata": {},
   "outputs": [],
   "source": [
    "scan = getScanByScanID(scanID=scanID)"
   ]
  },
  {
   "cell_type": "code",
   "execution_count": null,
   "metadata": {
    "scrolled": false
   },
   "outputs": [],
   "source": [
    "pp.pprint(scan)"
   ]
  },
  {
   "cell_type": "markdown",
   "metadata": {},
   "source": [
    "## 4. Create Scan"
   ]
  },
  {
   "cell_type": "code",
   "execution_count": null,
   "metadata": {},
   "outputs": [],
   "source": [
    "# {\n",
    "#     \"name\" : <string>,\n",
    "#     \"type\" : <string> DEFAULT \"policy\",\n",
    "#     \"description\" : <string> DEFAULT \"\",\n",
    "#     \"repository\" : {\n",
    "#         \"id\" : <number>\n",
    "#     },\n",
    "#     \"zone\" : {\n",
    "#         \"id\" : <number> DEFAULT \"0\" (All Zones)\n",
    "#     },\n",
    "#     \"dhcpTracking\" : <string> DEFAULT \"false\",\n",
    "#     \"classifyMitigatedAge\" : <number> DEFAULT \"0\",\n",
    "#     \"schedule\" : {\n",
    "#         \"type\" : \"dependent\" | \"ical\" | \"never\" | \"rollover\" | \"template\" <string> DEFAULT \"template\"\n",
    "#     },\n",
    "#     \"reports\" : [\n",
    "#         {\n",
    "#             \"id\" : <number>,\n",
    "#             \"reportSource\" : <string> \"cumulative\" | \"patched\" | \"individual\" | \"lce\" | \"archive\" | \"mobile\"\n",
    "#         }...\n",
    "#     ] DEFAULT [],\n",
    "#     \"assets\" : [\n",
    "#         {\n",
    "#             \"id\" : <number>\n",
    "#         }...\n",
    "#     ] DEFAULT [],\n",
    "#     \"credentials\" : [\n",
    "#         {\n",
    "#             \"id\" : <number>\n",
    "#         }...\n",
    "#     ] DEFAULT [],\n",
    "#     \"emailOnLaunch\" : <string> \"false\" | \"true\" DEFAULT \"false\",\n",
    "#     \"emailOnFinish\" : <string> \"false\" | \"true\" DEFAULT \"false\",\n",
    "#     \"timeoutAction\" : <string> \"discard\" | \"import\" | \"rollover\" DEFAULT \"import\",\n",
    "#     \"scanningVirtualHosts\" : <string> \"false\" | \"true\" DEFAULT \"false\",\n",
    "#     \"rolloverType\" : <string> \"nextDay\" | \"template\" DEFAULT \"template\",\n",
    "#     \"ipList\" : <string> DEFAULT \"\" (valid IP),\n",
    "#     \"maxScanTime\" : <number> DEFAULT \"3600\"\n",
    "# }"
   ]
  },
  {
   "cell_type": "code",
   "execution_count": null,
   "metadata": {},
   "outputs": [],
   "source": [
    "def createScan(payload={}):\n",
    "    getURL = HOSTNAME + \"/rest/scan/\"\n",
    "    newscan = requests.post(getURL, data=json.dumps(payload), headers=HEADER, verify=False)\n",
    "    return newscan.json()"
   ]
  },
  {
   "cell_type": "code",
   "execution_count": null,
   "metadata": {},
   "outputs": [],
   "source": [
    "scanName = \"\"\n",
    "description = \"\"\n",
    "repositoryID = 1\n",
    "zoneID = 1\n",
    "credentialID = 1000000\n",
    "policyID = 1000111\n",
    "ipLists = \"192.168.1.1\""
   ]
  },
  {
   "cell_type": "code",
   "execution_count": null,
   "metadata": {},
   "outputs": [],
   "source": [
    "nowTime = datetime.now()\n",
    "#nowTime.strftime(\"%y%m%dT%H\")\n",
    "\n",
    "if nowTime.minute >= 31 and nowTime.minute <= 60:\n",
    "    nowTime = nowTime.strftime(\"%Y%m%dT\") + str(int(nowTime.hour) + 1) + \"0000\"\n",
    "elif nowTime.minute >= 0 and nowTime.minute <= 30:\n",
    "    nowTime = nowTime.strftime(\"%Y%m%dT%H\") + \"3000\"\n",
    "nowTime"
   ]
  },
  {
   "cell_type": "code",
   "execution_count": null,
   "metadata": {},
   "outputs": [],
   "source": [
    "payload = {\n",
    "    'name': scanName,\n",
    "    'description': description,\n",
    "    'repository': {\n",
    "        'id': repositoryID\n",
    "    },\n",
    "    'schedule': {\n",
    "        'start': 'TZID=Asia/Bangkok:' + nowTime,\n",
    "        'repeatRule': 'FREQ=TEMPLATE;INTERVAL=1',\n",
    "        'type': 'template',\n",
    "        'enabled': 'true'\n",
    "    },\n",
    "    'dhcpTracking': 'true',\n",
    "    'emailOnLaunch': 'false',\n",
    "    'emailOnFinish': 'false',\n",
    "    'type': 'policy',\n",
    "    'policy': {\n",
    "        'id': policyID\n",
    "    },\n",
    "    'zone': {\n",
    "        'id': zoneID\n",
    "    },\n",
    "    'timeoutAction': 'rollover',\n",
    "    'rolloverType': 'template',\n",
    "    'scanningVirtualHosts': 'false',\n",
    "    'classifyMitigatedAge': 0,\n",
    "    'ipList': ipLists,\n",
    "    'credentials': [\n",
    "        {\n",
    "            'id': credentialID\n",
    "        }\n",
    "    ],\n",
    "    'maxScanTime': 'unlimited'\n",
    "}\n",
    "payload"
   ]
  },
  {
   "cell_type": "code",
   "execution_count": null,
   "metadata": {},
   "outputs": [],
   "source": [
    "newscan = createScan(payload=payload)"
   ]
  },
  {
   "cell_type": "code",
   "execution_count": null,
   "metadata": {},
   "outputs": [],
   "source": [
    "newscan"
   ]
  },
  {
   "cell_type": "markdown",
   "metadata": {},
   "source": [
    "## 5. Start Specific Scan by ScanID"
   ]
  },
  {
   "cell_type": "code",
   "execution_count": null,
   "metadata": {},
   "outputs": [],
   "source": [
    "scanid = 111"
   ]
  },
  {
   "cell_type": "code",
   "execution_count": null,
   "metadata": {},
   "outputs": [],
   "source": [
    "getURL = HOSTNAME + \"/rest/scan/\" + str(scanid) + \"/launch\"\n",
    "scan = requests.post(getURL, headers=HEADER, verify=False)\n",
    "scan = scan.json()[\"response\"]"
   ]
  },
  {
   "cell_type": "code",
   "execution_count": null,
   "metadata": {},
   "outputs": [],
   "source": [
    "scan"
   ]
  }
 ],
 "metadata": {
  "kernelspec": {
   "display_name": "Python 3",
   "language": "python",
   "name": "python3"
  },
  "language_info": {
   "codemirror_mode": {
    "name": "ipython",
    "version": 3
   },
   "file_extension": ".py",
   "mimetype": "text/x-python",
   "name": "python",
   "nbconvert_exporter": "python",
   "pygments_lexer": "ipython3",
   "version": "3.8.3"
  }
 },
 "nbformat": 4,
 "nbformat_minor": 4
}
