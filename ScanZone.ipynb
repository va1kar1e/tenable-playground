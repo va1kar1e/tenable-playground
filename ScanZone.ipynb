{
 "cells": [
  {
   "cell_type": "markdown",
   "metadata": {},
   "source": [
    "# Scan Zone"
   ]
  },
  {
   "cell_type": "code",
   "execution_count": null,
   "metadata": {},
   "outputs": [],
   "source": [
    "import pandas as pd\n",
    "import requests, urllib3\n",
    "urllib3.disable_warnings(urllib3.exceptions.InsecureRequestWarning)\n",
    "\n",
    "from tenable_authen import TenableAuthentication"
   ]
  },
  {
   "cell_type": "code",
   "execution_count": null,
   "metadata": {},
   "outputs": [],
   "source": [
    "tenableAuthentication = TenableAuthentication()\n",
    "HOSTNAME = tenableAuthentication.getHostname()\n",
    "HEADER = tenableAuthentication.getRequestHeader()"
   ]
  },
  {
   "cell_type": "markdown",
   "metadata": {},
   "source": [
    "## 1. Get All Scan Zones"
   ]
  },
  {
   "cell_type": "code",
   "execution_count": null,
   "metadata": {},
   "outputs": [],
   "source": [
    "def getAllScanzones(params={}):\n",
    "    getAllScanzonesURL = HOSTNAME + \"/rest/zone\"\n",
    "    allScanzones = requests.get(getAllScanzonesURL, params=params, headers=HEADER, verify=False)\n",
    "    allScanzones = allScanzones.json()[\"response\"]\n",
    "    return allScanzones"
   ]
  },
  {
   "cell_type": "code",
   "execution_count": null,
   "metadata": {},
   "outputs": [],
   "source": [
    "allScanzones = getAllScanzones()"
   ]
  },
  {
   "cell_type": "code",
   "execution_count": null,
   "metadata": {},
   "outputs": [],
   "source": [
    "pd.DataFrame(allScanzones)"
   ]
  },
  {
   "cell_type": "code",
   "execution_count": null,
   "metadata": {},
   "outputs": [],
   "source": []
  },
  {
   "cell_type": "markdown",
   "metadata": {},
   "source": [
    "## 2. Get Specific Scan Zones by ScanZonesID "
   ]
  },
  {
   "cell_type": "code",
   "execution_count": null,
   "metadata": {},
   "outputs": [],
   "source": [
    "def getScanZoneByScanZoneID(scanZoneID=\"\"):\n",
    "    getScanZoneByScanZoneIDURL = HOSTNAME + \"/rest/zone/\" + str(scanZoneID)\n",
    "    scanzone = requests.get(getScanZoneByScanZoneIDURL, headers=HEADER, verify=False)\n",
    "    return scanzone.json()[\"response\"]"
   ]
  },
  {
   "cell_type": "code",
   "execution_count": null,
   "metadata": {},
   "outputs": [],
   "source": [
    "scanZoneID = 3"
   ]
  },
  {
   "cell_type": "code",
   "execution_count": null,
   "metadata": {},
   "outputs": [],
   "source": [
    "scanzones = getScanZoneByScanZoneID(scanZoneID=scanZoneID)"
   ]
  },
  {
   "cell_type": "code",
   "execution_count": null,
   "metadata": {},
   "outputs": [],
   "source": [
    "scanzones"
   ]
  },
  {
   "cell_type": "code",
   "execution_count": null,
   "metadata": {},
   "outputs": [],
   "source": []
  },
  {
   "cell_type": "markdown",
   "metadata": {},
   "source": [
    "## 3. Create Scan Zone"
   ]
  },
  {
   "cell_type": "code",
   "execution_count": null,
   "metadata": {},
   "outputs": [],
   "source": [
    "# {\n",
    "#     \"name\" : <string>,\n",
    "#     \"description\" : <string> DEFAULT \"\",\n",
    "#     \"ipList\" : <string> (valid IP list),\n",
    "#     \"scanners\" : [\n",
    "#         {\n",
    "#             \"id\" : <number>\n",
    "#         }...\n",
    "#     ] DEFAULT []\n",
    "# }"
   ]
  },
  {
   "cell_type": "code",
   "execution_count": null,
   "metadata": {},
   "outputs": [],
   "source": [
    "def createScanzones(payload={}):\n",
    "    createScanzonesURL = HOSTNAME + \"/rest/zone\"\n",
    "    newScanzones = requests.get(createScanzonesURL, params=payload, headers=HEADER, verify=False)\n",
    "    newScanzones = newScanzones.json()[\"response\"]\n",
    "    return newScanzones"
   ]
  },
  {
   "cell_type": "code",
   "execution_count": null,
   "metadata": {},
   "outputs": [],
   "source": [
    "payload = {}"
   ]
  },
  {
   "cell_type": "code",
   "execution_count": null,
   "metadata": {},
   "outputs": [],
   "source": [
    "newScanzones = createScanzones(payload=payload)"
   ]
  },
  {
   "cell_type": "code",
   "execution_count": null,
   "metadata": {},
   "outputs": [],
   "source": []
  },
  {
   "cell_type": "markdown",
   "metadata": {},
   "source": [
    "## 4. Get All Scanner"
   ]
  },
  {
   "cell_type": "code",
   "execution_count": null,
   "metadata": {},
   "outputs": [],
   "source": [
    "def getAllScanner():\n",
    "    getAllScannerURL = HOSTNAME + \"/rest/scanner\"\n",
    "    allScanner = requests.get(getAllScannerURL, headers=HEADER, verify=False)\n",
    "    allScanner = allScanner.json()[\"response\"]\n",
    "    return allScanner"
   ]
  },
  {
   "cell_type": "code",
   "execution_count": null,
   "metadata": {},
   "outputs": [],
   "source": [
    "allScanner = getAllScanner()"
   ]
  },
  {
   "cell_type": "code",
   "execution_count": null,
   "metadata": {},
   "outputs": [],
   "source": [
    "pd.DataFrame(allScanner)"
   ]
  },
  {
   "cell_type": "code",
   "execution_count": null,
   "metadata": {},
   "outputs": [],
   "source": []
  }
 ],
 "metadata": {
  "kernelspec": {
   "display_name": "Python 3",
   "language": "python",
   "name": "python3"
  },
  "language_info": {
   "codemirror_mode": {
    "name": "ipython",
    "version": 3
   },
   "file_extension": ".py",
   "mimetype": "text/x-python",
   "name": "python",
   "nbconvert_exporter": "python",
   "pygments_lexer": "ipython3",
   "version": "3.8.3"
  }
 },
 "nbformat": 4,
 "nbformat_minor": 4
}
