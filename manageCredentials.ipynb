{
 "cells": [
  {
   "cell_type": "markdown",
   "metadata": {},
   "source": [
    "# Client Credentials Management"
   ]
  },
  {
   "cell_type": "code",
   "execution_count": null,
   "metadata": {},
   "outputs": [],
   "source": [
    "import csv\n",
    "import os\n",
    "import pandas as pd\n",
    "from IPython.display import display\n",
    "import requests, urllib3\n",
    "urllib3.disable_warnings(urllib3.exceptions.InsecureRequestWarning)\n",
    "\n",
    "from tenable_authen import TenableAuthentication"
   ]
  },
  {
   "cell_type": "code",
   "execution_count": null,
   "metadata": {},
   "outputs": [],
   "source": [
    "tenableAuthentication = TenableAuthentication()\n",
    "HOSTNAME = tenableAuthentication.getHostname()\n",
    "HEADER = tenableAuthentication.getRequestHeader()\n",
    "# HOSTNAME, HEADER"
   ]
  },
  {
   "cell_type": "markdown",
   "metadata": {},
   "source": [
    "# 1. Get Credentials"
   ]
  },
  {
   "cell_type": "code",
   "execution_count": null,
   "metadata": {},
   "outputs": [],
   "source": [
    "params = {\n",
    "    \"id\": None,\n",
    "}\n",
    "params"
   ]
  },
  {
   "cell_type": "code",
   "execution_count": null,
   "metadata": {},
   "outputs": [],
   "source": [
    "getCredURL = HOSTNAME + \"/rest/credential\"\n",
    "getCred = requests.get(getCredURL, params=params, headers=HEADER, verify=False)\n",
    "print(getCred.status_code)\n",
    "getCred = getCred.json()[\"response\"]"
   ]
  },
  {
   "cell_type": "code",
   "execution_count": null,
   "metadata": {},
   "outputs": [],
   "source": [
    "print(\"Usable\")\n",
    "display(pd.DataFrame(getCred[\"usable\"]))"
   ]
  },
  {
   "cell_type": "code",
   "execution_count": null,
   "metadata": {},
   "outputs": [],
   "source": [
    "# print(\"Manageable\")\n",
    "# display(pd.DataFrame(getCred[\"manageable\"]))"
   ]
  },
  {
   "cell_type": "markdown",
   "metadata": {},
   "source": [
    "# 2. Add Credentials"
   ]
  },
  {
   "cell_type": "markdown",
   "metadata": {},
   "source": [
    "## A. Prepared Parameter"
   ]
  },
  {
   "cell_type": "markdown",
   "metadata": {},
   "source": [
    "### \"type\" : \"apiGateway\" | \"database\" | \"windows\" | \"snmp\" | \"ssh\""
   ]
  },
  {
   "cell_type": "markdown",
   "metadata": {},
   "source": [
    "- \"type\" : windows"
   ]
  },
  {
   "cell_type": "code",
   "execution_count": null,
   "metadata": {},
   "outputs": [],
   "source": [
    "def generateWindowsPayload():\n",
    "    return {\n",
    "        \"name\": name,\n",
    "        \"tags\": \"\",\n",
    "        \"description\": \"\",\n",
    "        \"type\": \"windows\",\n",
    "        \"username\": cyberark_username,\n",
    "        \"authType\": \"cyberark\",\n",
    "        \"domain\": domain,\n",
    "        \"vault_host\": cyberark_vault_host,\n",
    "        \"vault_port\": cyberark_vault_port,\n",
    "        \"vault_safe\": cyberark_vault_safe,\n",
    "        \"vault_app_id\": cyberark_vault_app_id,\n",
    "        \"vault_folder\": cyberark_vault_folder,\n",
    "        \"vault_use_ssl\": \"yes\",\n",
    "        \"vault_verify_ssl\": \"no\",\n",
    "    }"
   ]
  },
  {
   "cell_type": "markdown",
   "metadata": {},
   "source": [
    "- \"type\" : ssh\n",
    "- \"privilegeEscalation\" : <string> \"none\" | \"su\" | \"sudo\" | \"su+sudo\" | \"dzdo\" | \"pbrun\" | \"cisco\" | \".k5login\","
   ]
  },
  {
   "cell_type": "code",
   "execution_count": null,
   "metadata": {},
   "outputs": [],
   "source": [
    "def generateSSHPayload():\n",
    "    return {\n",
    "        \"name\": name,\n",
    "        \"tags\": \"\",\n",
    "        \"description\": \"\",\n",
    "        \"type\": \"ssh\",\n",
    "        \"username\": cyberark_username,\n",
    "        \"authType\": \"cyberark\",\n",
    "        \"vault_host\": cyberark_vault_host,\n",
    "        \"vault_port\": cyberark_vault_port,\n",
    "        \"vault_username\": cyberark_vault_username,\n",
    "        \"vault_password\": cyberark_vault_password,\n",
    "        \"vault_safe\": cyberark_vault_safe,\n",
    "        \"vault_app_id\": cyberark_vault_app_id,\n",
    "        \"vault_folder\": cyberark_vault_folder,\n",
    "        \"vault_use_ssl\": \"yes\",\n",
    "        \"vault_verify_ssl\": \"no\",\n",
    "        \"vault_address\": hostname,\n",
    "        \"privilegeEscalation\": \"sudo\",\n",
    "        \"escalationUsername\": \"root\"\n",
    "    }"
   ]
  },
  {
   "cell_type": "markdown",
   "metadata": {},
   "source": [
    "## B1. Add Single Credential"
   ]
  },
  {
   "cell_type": "code",
   "execution_count": null,
   "metadata": {},
   "outputs": [],
   "source": [
    "# General\n",
    "name = \"\"\n",
    "cyberark_username = \"\"\n",
    "cyberark_vault_host = \"\"\n",
    "cyberark_vault_port = \"\"\n",
    "cyberark_vault_username = \"\"\n",
    "cyberark_vault_password = \"\"\n",
    "cyberark_vault_safe = \"\"\n",
    "cyberark_vault_app_id = \"\"\n",
    "cyberark_vault_folder = \"\"\n",
    "\n",
    "# Windows\n",
    "domain = \"\"\n",
    "\n",
    "# SSH\n",
    "hostname = \"\""
   ]
  },
  {
   "cell_type": "code",
   "execution_count": null,
   "metadata": {},
   "outputs": [],
   "source": [
    "# credentialPayload = generateWindowsPayload()\n",
    "credentialPayload = generateSSHPayload()"
   ]
  },
  {
   "cell_type": "code",
   "execution_count": null,
   "metadata": {},
   "outputs": [],
   "source": [
    "addCredURL = HOSTNAME + \"/rest/credential\"\n",
    "grtAddCred = requests.post(addCredURL, params=credentialPayload, headers=HEADER, verify=False)\n",
    "print(grtAddCred.status_code, grtAddCred.json()[\"response\"][\"id\"])"
   ]
  },
  {
   "cell_type": "markdown",
   "metadata": {},
   "source": [
    "## B2. Add Multiple Credential"
   ]
  },
  {
   "cell_type": "code",
   "execution_count": null,
   "metadata": {},
   "outputs": [],
   "source": [
    "finename = os.listdir(\"inputs/\")\n",
    "finename"
   ]
  },
  {
   "cell_type": "code",
   "execution_count": null,
   "metadata": {},
   "outputs": [],
   "source": [
    "# General\n",
    "name = \"\"\n",
    "cyberark_username = \"\"\n",
    "cyberark_vault_host = \"\"\n",
    "cyberark_vault_port = \"\"\n",
    "cyberark_vault_username = \"\"\n",
    "cyberark_vault_password = \"\"\n",
    "cyberark_vault_safe = \"\"\n",
    "cyberark_vault_app_id = \"\"\n",
    "cyberark_vault_folder = \"\"\n",
    "\n",
    "# Windows\n",
    "domain = \"\"\n",
    "\n",
    "# SSH\n",
    "hostname = \"\""
   ]
  },
  {
   "cell_type": "code",
   "execution_count": null,
   "metadata": {},
   "outputs": [],
   "source": [
    "input_file = \"inputs/\" + finename[0]\n",
    "\n",
    "with open(input_file, mode='r', encoding='utf-8-sig') as inp:\n",
    "    reader = csv.DictReader(inp)\n",
    "    for row in reader:\n",
    "        name = \"cyberark_\" + row[\"os\"] + \"_\" + row[\"name\"]\n",
    "        hostname = row[\"host\"]\n",
    "        \n",
    "        print(\"Name : \" + name, end=\" \")\n",
    "        print(\", Hostname : \" + hostname)\n",
    "\n",
    "        # credentialPayload = generateWindowsPayload()\n",
    "        credentialPayload = generateSSHPayload()\n",
    "        \n",
    "        grtAddCred = requests.post(addCredURL, params=credentialPayload, headers=HEADER, verify=False)\n",
    "        print(\"[\" + str(grtAddCred.status_code) + \"]\", end=\" \")\n",
    "        if int(grtAddCred.status_code) == 200:\n",
    "            print(\"Credential ID : \" + grtAddCred.json()[\"response\"][\"id\"])\n",
    "        else:\n",
    "            print(grtAddCred.text)\n"
   ]
  },
  {
   "cell_type": "markdown",
   "metadata": {},
   "source": [
    "# 3. Get Credential by ID"
   ]
  },
  {
   "cell_type": "code",
   "execution_count": null,
   "metadata": {},
   "outputs": [],
   "source": [
    "credentialID = \"1000000\""
   ]
  },
  {
   "cell_type": "code",
   "execution_count": null,
   "metadata": {},
   "outputs": [],
   "source": [
    "getCredByIDURL = HOSTNAME + \"/rest/credential/\" + str(credentialID)\n",
    "getCredByID = requests.get(getCredByIDURL, headers=HEADER, verify=False)\n",
    "print(getCredByID.status_code)\n",
    "getCredByID = getCredByID.json()[\"response\"]"
   ]
  },
  {
   "cell_type": "code",
   "execution_count": null,
   "metadata": {},
   "outputs": [],
   "source": [
    "getCredByID"
   ]
  },
  {
   "cell_type": "markdown",
   "metadata": {},
   "source": [
    "# 4. Delete Credential by ID"
   ]
  },
  {
   "cell_type": "code",
   "execution_count": null,
   "metadata": {},
   "outputs": [],
   "source": [
    "credentialID4delete = \"1000000\""
   ]
  },
  {
   "cell_type": "code",
   "execution_count": null,
   "metadata": {},
   "outputs": [],
   "source": [
    "deleteCredURL = HOSTNAME + \"/rest/credential/\" + str(credentialID4delete)\n",
    "deleteCred = requests.delete(deleteCredURL, headers=HEADER, verify=False)\n",
    "print(deleteCred.status_code)\n",
    "deleteCred.json()"
   ]
  },
  {
   "cell_type": "markdown",
   "metadata": {},
   "source": [
    "# 5. Get Credential Tags"
   ]
  },
  {
   "cell_type": "code",
   "execution_count": null,
   "metadata": {},
   "outputs": [],
   "source": [
    "getCredTagURL = HOSTNAME + \"/rest/credential/tag\"\n",
    "getCredTag = requests.get(getCredTagURL, headers=HEADER, verify=False)\n",
    "print(getCredTag.status_code)\n",
    "getCredTag = getCredTag.json()"
   ]
  },
  {
   "cell_type": "code",
   "execution_count": null,
   "metadata": {},
   "outputs": [],
   "source": [
    "getCredTag"
   ]
  },
  {
   "cell_type": "code",
   "execution_count": null,
   "metadata": {},
   "outputs": [],
   "source": []
  }
 ],
 "metadata": {
  "kernelspec": {
   "display_name": "Python 3",
   "language": "python",
   "name": "python3"
  },
  "language_info": {
   "codemirror_mode": {
    "name": "ipython",
    "version": 3
   },
   "file_extension": ".py",
   "mimetype": "text/x-python",
   "name": "python",
   "nbconvert_exporter": "python",
   "pygments_lexer": "ipython3",
   "version": "3.8.3"
  }
 },
 "nbformat": 4,
 "nbformat_minor": 4
}
